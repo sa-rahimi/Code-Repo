{
 "cells": [
  {
   "cell_type": "code",
   "execution_count": 1,
   "id": "07f5352f",
   "metadata": {},
   "outputs": [],
   "source": [
    "import os\n",
    "import glob\n",
    "import rasterio as rio\n",
    "from rasterio.merge import merge\n",
    "from rasterio.plot import show\n",
    "import numpy as np\n",
    "import matplotlib.pyplot as plt\n",
    "from osgeo import gdal"
   ]
  },
  {
   "cell_type": "code",
   "execution_count": 2,
   "id": "d134c28d",
   "metadata": {},
   "outputs": [],
   "source": [
    "# Mosaic all rasters in a directory\n",
    "def mosaic(path):\n",
    "    # Search and read raster files\n",
    "    search_criteria = '*.tif'\n",
    "    q = os.path.join(path, search_criteria)\n",
    "    raster_files = glob.glob(q)\n",
    "    # mosaic rasters and stor them in a gdal virtual file in the memory\n",
    "    mosaic_raster = gdal.BuildVRT('', raster_files)\n",
    "    print('All files have been read')\n",
    "    return mosaic_raster\n",
    "\n",
    "# Reproject the raster\n",
    "def reproject(path, dst_SRS):\n",
    "    # Open the raster files\n",
    "    r_file = gdal.Open(path)\n",
    "    # Reproject the raster and stor it in a gdal virtual file in the memory\n",
    "    reprj_raster = gdal.Warp('', r_file, format='vrt', dstSRS=dst_SRS)\n",
    "    return reprj_raster\n",
    "\n",
    "# Resample the raster\n",
    "def resample(path, x_res, y_res):\n",
    "    # Open the raster files\n",
    "    r_file = gdal.Open(path)\n",
    "    # Resample the raster using the GRA_Bilinear resampling algorithm\n",
    "    resamp_raster = gdal.Warp('', r_file, format = 'vrt',\n",
    "                                 xRes = x_res, yRes = y_res, resampleAlg = gdal.GRA_Bilinear)\n",
    "    return resamp_raster\n",
    "\n",
    "# Combine a big lower resolution rster with smaller higher reolution raster(s)\n",
    "def update_georaster(source_path, target_path):\n",
    "    # Open the source and target raster files\n",
    "    source_dataset = gdal.Open(source_path, gdal.GA_Update) # The raster that needs to be updated\n",
    "    target_dataset = gdal.Open(target_path, gdal.GA_ReadOnly) # The raster that is used to update the other raster\n",
    "    gdal.Warp(source_dataset, target_dataset, options=gdal.WarpOptions(dstNodata=-9999))\n",
    "    source_dataset = None\n",
    "    target_dataset = None\n",
    "\n",
    "# Compress and save the raster\n",
    "def compress_save(r_file, out_name):\n",
    "    # Compress the raster and write it into a TIFF file\n",
    "    translateoptions = gdal.TranslateOptions(gdal.ParseCommandLine('-of GTiff -co COMPRESS=LZW -co ZLEVEL=9 -co BIGTIFF=YES'))\n",
    "#     translateoptions = gdal.TranslateOptions(gdal.ParseCommandLine('-of GTiff -co BIGTIFF=YES'))\n",
    "    gdal.Translate(out_name, r_file, options=translateoptions)"
   ]
  },
  {
   "cell_type": "code",
   "execution_count": 7,
   "id": "c2aba16f",
   "metadata": {},
   "outputs": [],
   "source": [
    "if __name__ == '__main__':    \n",
    "    # Change the current working directory\n",
    "    os.chdir(r'D:\\LWS Projects\\South Canterbury Catchment Collective\\2 Working Files\\Working Datasets\\1 - Spatial Data\\Combined_CompositeLiDAR_DEM1m')\n",
    "    # Mosaic all the rasters in the specified directory\n",
    "#     vrt_mosaic = mosaic(path=os.getcwd())\n",
    "    \n",
    "    # Reproject the raster\n",
    "#     vrt_reproject = reproject(path='', 'EPSG:2193')\n",
    "\n",
    "    # Resample the raster file\n",
    "#     vrt_resample = resample('./Combined_LiDAR_Composite_DEM1m.tif', 2, 2)\n",
    "    \n",
    "    # Aligned the target raster with the source raster\n",
    "#     vrt_aligned = align_georasters(source_path = './WAI_Wanaka_CompositeDEM1m.tif',\n",
    "#                                    target_path = './WAI_Wanaka_LiDAR_DEM1m.tif')\n",
    "    \n",
    "#     update_georaster('./Combined_LiDAR_Composite_DEM1m.tif', './New_LiDAR.tif')\n",
    "    r_file = gdal.Open('./Combined_LiDAR_Composite_DEM1m.tif')\n",
    "    # Compress and Save the raster in the working directory\n",
    "    compress_save(r_file, out_name='./Combined_Composite_LiDAR_DEM11m.tif')"
   ]
  }
 ],
 "metadata": {
  "kernelspec": {
   "display_name": "Python 3 (ipykernel)",
   "language": "python",
   "name": "python3"
  },
  "language_info": {
   "codemirror_mode": {
    "name": "ipython",
    "version": 3
   },
   "file_extension": ".py",
   "mimetype": "text/x-python",
   "name": "python",
   "nbconvert_exporter": "python",
   "pygments_lexer": "ipython3",
   "version": "3.9.13"
  }
 },
 "nbformat": 4,
 "nbformat_minor": 5
}
